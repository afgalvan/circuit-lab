{
 "cells": [
  {
   "cell_type": "markdown",
   "metadata": {},
   "source": [
    "<h1 align=\"center\">\n",
    "    PRACTICA EXPERIMENTAL #3\n",
    "    </br>\n",
    "    CIRCUITO RC: CARGA Y DESCARGA DEL CAPACITOR\n",
    "</h1>\n",
    "\n",
    "| IDENTIFICACIÓN | |\n",
    "| :- | :- |\n",
    "| Nombre de la asignatura | Electromagnetismo |\n",
    "| Programa Académico | Ingeniería de Sistemas |\n",
    "| Docente | Dr. Carlos Eduardo Martinez Nuñez |\n",
    "| Nombre del Estudiante | Andrés Galván, Javier Guerra |\n",
    "\n",
    "---\n",
    "\n",
    "## OBJETIVO GENERAL\n",
    "\n",
    "Estudiar los fenómenos de carga y descarga del capacitor en un circuito RC y determinar su constante de tiempo (𝜏) asociada.\n",
    "\n",
    "---\n",
    "\n",
    "## OBJETIVOS ESPECÍFICOS\n",
    "\n",
    "- Construir un circuto simple RC.\n",
    "- Estudiar el comportamiento de carga de un capacitor en un circuito simple RC.\n",
    "- Estudiar el comportamiento de descarga de un capacitor en un circuito simple RC. \n",
    "- Determinar la constante de tiempo (𝜏) asociada al circuito RC."
   ]
  },
  {
   "cell_type": "markdown",
   "metadata": {},
   "source": [
    "# Procedimiento"
   ]
  },
  {
   "cell_type": "markdown",
   "metadata": {},
   "source": [
    "## Instalar dependencias"
   ]
  },
  {
   "cell_type": "code",
   "execution_count": 1,
   "metadata": {},
   "outputs": [],
   "source": [
    "# from sys import executable\n",
    "\n",
    "# !{executable} -m pip install pandas\n",
    "# !{executable} -m pip install matplotlib\n",
    "# !{executable} -m pip install openpyxl\n",
    "# !{executable} -m pip install numpy"
   ]
  },
  {
   "cell_type": "markdown",
   "metadata": {},
   "source": [
    "## Configuración"
   ]
  },
  {
   "cell_type": "code",
   "execution_count": 2,
   "metadata": {},
   "outputs": [],
   "source": [
    "from matplotlib.pyplot import style\n",
    "\n",
    "style.use(\"seaborn-whitegrid\")"
   ]
  }
 ],
 "metadata": {
  "interpreter": {
   "hash": "54f473eb0257c08decd1f78f9882b56b9a20e6410c7d8533ca2fd9ce09773f65"
  },
  "kernelspec": {
   "display_name": "Python 3.9.6 64-bit",
   "name": "python3"
  },
  "language_info": {
   "codemirror_mode": {
    "name": "ipython",
    "version": 3
   },
   "file_extension": ".py",
   "mimetype": "text/x-python",
   "name": "python",
   "nbconvert_exporter": "python",
   "pygments_lexer": "ipython3",
   "version": "3.9.6"
  },
  "orig_nbformat": 4
 },
 "nbformat": 4,
 "nbformat_minor": 2
}
